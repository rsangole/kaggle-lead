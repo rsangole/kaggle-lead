{
 "cells": [
  {
   "cell_type": "markdown",
   "id": "0986ab3d-3f4e-4207-82ec-fbb4f8767daa",
   "metadata": {},
   "source": [
    "# Data Preparation"
   ]
  },
  {
   "cell_type": "code",
   "execution_count": 21,
   "id": "ff0dcdce-0559-4f45-ad72-f359a0c82a2a",
   "metadata": {},
   "outputs": [],
   "source": [
    "import pandas as pd\n",
    "import numpy as np\n",
    "import seaborn as sns\n",
    "import sktime as skt\n",
    "import xgboost as xgb\n",
    "import matplotlib.pyplot as plt\n",
    "sns.set(style='ticks', context='talk')"
   ]
  },
  {
   "cell_type": "code",
   "execution_count": 34,
   "id": "781009bb-cd4e-4345-803c-027bbb7e567f",
   "metadata": {},
   "outputs": [],
   "source": [
    "def feat_cleanup_primary_use(dt):\n",
    "    dt.primary_use = dt.primary_use.str.lower()\n",
    "    return dt"
   ]
  },
  {
   "cell_type": "code",
   "execution_count": 35,
   "id": "31e0375f-f661-41af-a0d9-2a80116537ef",
   "metadata": {},
   "outputs": [],
   "source": [
    "def feat_cleanup_categoricals(dt):\n",
    "    dt[\"building_id\"] = 'bldg_' + dt[\"building_id\"].apply(str)\n",
    "    dt[\"site_id\"] = 'site_' + dt[\"site_id\"].apply(str)\n",
    "    return dt"
   ]
  },
  {
   "cell_type": "code",
   "execution_count": 36,
   "id": "628c59b7-141b-41b8-909c-c950f98f661f",
   "metadata": {},
   "outputs": [],
   "source": [
    "def feat_anomaly(dt):\n",
    "    if \"anomaly\" in dt.columns:\n",
    "        dt[\"anomaly\"] = 'A' + dt[\"anomaly\"].apply(str)\n",
    "        dt[\"anomaly\"] = dt[\"anomaly\"].astype(\"category\")\n",
    "    return dt"
   ]
  },
  {
   "cell_type": "code",
   "execution_count": 37,
   "id": "246e94e7-cc57-4633-b421-d981e7888706",
   "metadata": {},
   "outputs": [],
   "source": [
    "def feat_missingness(dt):\n",
    "    dt[\"cloud_coverage_missing\"] = dt[\"cloud_coverage\"] == 255\n",
    "    dt[\"year_built_missing\"] = dt[\"year_built\"] == 255\n",
    "    return dt"
   ]
  },
  {
   "cell_type": "code",
   "execution_count": 51,
   "id": "61e6ad97-4435-4254-8b8f-5de130797f5c",
   "metadata": {},
   "outputs": [],
   "source": [
    "def process_data(fp):\n",
    "    df = (pd.read_csv(fp, nrows=1e5)\n",
    "            .rename(columns=str.lower)\n",
    "            .pipe(feat_cleanup_primary_use)\n",
    "            .pipe(feat_cleanup_categoricals)\n",
    "            .pipe(feat_anomaly)\n",
    "            .pipe(feat_missingness)\n",
    "            .assign(timestamp=lambda x: pd.to_datetime(x['timestamp']),\n",
    "                    site_id=lambda x: pd.Categorical(x['site_id']),\n",
    "                    building_id=lambda x: pd.Categorical(x['building_id']))\n",
    "         )\n",
    "    return df"
   ]
  },
  {
   "cell_type": "code",
   "execution_count": 52,
   "id": "1c93e6b0-eb93-460f-9048-4703440e3f26",
   "metadata": {},
   "outputs": [
    {
     "name": "stdout",
     "output_type": "stream",
     "text": [
      "<class 'pandas.core.frame.DataFrame'>\n",
      "DatetimeIndex: 100000 entries, 2016-01-01 00:00:00 to 2016-01-21 23:00:00\n",
      "Data columns (total 58 columns):\n",
      " #   Column                         Non-Null Count   Dtype   \n",
      "---  ------                         --------------   -----   \n",
      " 0   building_id                    100000 non-null  category\n",
      " 1   meter_reading                  91526 non-null   float64 \n",
      " 2   anomaly                        100000 non-null  category\n",
      " 3   site_id                        100000 non-null  category\n",
      " 4   primary_use                    100000 non-null  object  \n",
      " 5   square_feet                    100000 non-null  int64   \n",
      " 6   year_built                     100000 non-null  int64   \n",
      " 7   floor_count                    100000 non-null  int64   \n",
      " 8   air_temperature                100000 non-null  float64 \n",
      " 9   cloud_coverage                 100000 non-null  int64   \n",
      " 10  dew_temperature                100000 non-null  float64 \n",
      " 11  precip_depth_1_hr              100000 non-null  int64   \n",
      " 12  sea_level_pressure             100000 non-null  float64 \n",
      " 13  wind_direction                 100000 non-null  int64   \n",
      " 14  wind_speed                     100000 non-null  float64 \n",
      " 15  air_temperature_mean_lag7      100000 non-null  float64 \n",
      " 16  air_temperature_max_lag7       100000 non-null  float64 \n",
      " 17  air_temperature_min_lag7       100000 non-null  float64 \n",
      " 18  air_temperature_std_lag7       100000 non-null  float64 \n",
      " 19  air_temperature_mean_lag73     100000 non-null  float64 \n",
      " 20  air_temperature_max_lag73      100000 non-null  float64 \n",
      " 21  air_temperature_min_lag73      100000 non-null  float64 \n",
      " 22  air_temperature_std_lag73      100000 non-null  float64 \n",
      " 23  hour                           100000 non-null  int64   \n",
      " 24  weekday                        100000 non-null  int64   \n",
      " 25  month                          100000 non-null  int64   \n",
      " 26  year                           100000 non-null  int64   \n",
      " 27  weekday_hour                   100000 non-null  object  \n",
      " 28  hour_x                         100000 non-null  float64 \n",
      " 29  hour_y                         100000 non-null  float64 \n",
      " 30  month_x                        100000 non-null  float64 \n",
      " 31  month_y                        100000 non-null  float64 \n",
      " 32  weekday_x                      100000 non-null  float64 \n",
      " 33  weekday_y                      100000 non-null  float64 \n",
      " 34  building_weekday_hour          100000 non-null  object  \n",
      " 35  building_weekday               100000 non-null  object  \n",
      " 36  building_month                 100000 non-null  object  \n",
      " 37  building_hour                  100000 non-null  object  \n",
      " 38  building_meter                 100000 non-null  object  \n",
      " 39  is_holiday                     100000 non-null  int64   \n",
      " 40  gte_hour                       100000 non-null  float64 \n",
      " 41  gte_weekday                    100000 non-null  float64 \n",
      " 42  gte_month                      100000 non-null  float64 \n",
      " 43  gte_building_id                100000 non-null  float64 \n",
      " 44  gte_primary_use                100000 non-null  float64 \n",
      " 45  gte_site_id                    100000 non-null  float64 \n",
      " 46  gte_meter                      100000 non-null  float64 \n",
      " 47  gte_meter_hour                 100000 non-null  float64 \n",
      " 48  gte_meter_weekday              100000 non-null  float64 \n",
      " 49  gte_meter_month                100000 non-null  float64 \n",
      " 50  gte_meter_building_id          100000 non-null  float64 \n",
      " 51  gte_meter_primary_use          100000 non-null  float64 \n",
      " 52  gte_meter_site_id              100000 non-null  float64 \n",
      " 53  gte_meter_building_id_hour     100000 non-null  float64 \n",
      " 54  gte_meter_building_id_weekday  100000 non-null  float64 \n",
      " 55  gte_meter_building_id_month    100000 non-null  float64 \n",
      " 56  cloud_coverage_missing         100000 non-null  bool    \n",
      " 57  year_built_missing             100000 non-null  bool    \n",
      "dtypes: bool(2), category(3), float64(35), int64(11), object(7)\n",
      "memory usage: 41.8+ MB\n"
     ]
    }
   ],
   "source": [
    "training_dat = process_data(\"/home/jovyan/work/data-raw/train_features.csv\")\n",
    "training_dat.set_index(\"timestamp\", inplace=True)\n",
    "training_dat.info()"
   ]
  },
  {
   "cell_type": "code",
   "execution_count": null,
   "id": "c096603d-e876-43fd-9e9b-6e80ec93febd",
   "metadata": {},
   "outputs": [],
   "source": []
  }
 ],
 "metadata": {
  "kernelspec": {
   "display_name": "Python 3 (ipykernel)",
   "language": "python",
   "name": "python3"
  },
  "language_info": {
   "codemirror_mode": {
    "name": "ipython",
    "version": 3
   },
   "file_extension": ".py",
   "mimetype": "text/x-python",
   "name": "python",
   "nbconvert_exporter": "python",
   "pygments_lexer": "ipython3",
   "version": "3.10.6"
  }
 },
 "nbformat": 4,
 "nbformat_minor": 5
}
